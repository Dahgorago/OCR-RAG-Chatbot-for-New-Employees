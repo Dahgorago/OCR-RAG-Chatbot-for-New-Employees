{
 "cells": [
  {
   "cell_type": "code",
   "execution_count": 5,
   "id": "20b23669",
   "metadata": {},
   "outputs": [
    {
     "name": "stderr",
     "output_type": "stream",
     "text": [
      "/tmp/ipykernel_782558/1777791300.py:32: DeprecationWarning: `recreate_collection` method is deprecated and will be removed in the future. Use `collection_exists` to check collection existence and `create_collection` instead.\n",
      "  client.recreate_collection(\n"
     ]
    },
    {
     "name": "stdout",
     "output_type": "stream",
     "text": [
      "PENJELASAN PEDOMAN PELAKSANAAN KERJA (CHARTER) KOMITE NOMINASI DAN REMUNERASI PERUSAHAAN PERSEROAN (PERSERO) PT TELEKOMUNIKASIINDONESIA, Tbk\n",
      "1. LATAR BELAKANG Perusahaan Perseroan (Persero) PT Telekomunikasi Indonesia; Tbk selanjutnya disebut Perseroan , merupakan Badan Usaha Milik Negara yang bergerak dalam bidang telekomunikasi dengan produk digital connectivity, digital platform dan digital services. Perseroan saat ini telah terdaftar di pasar modal baik di dalam negeri maupun di luar negeri (New York Stock Exchange): Dalam menjalankan fungsi dan tugasnya di bidang nominasi dan remunerasi sesuai dengan ketentuan peraturan perundang-undangan yang beriaku; Dewan Komisaris dibantu oleh Komite Nominasi dan Remunerasi yang selanjutnya disebut Komite. Agar pelaksanaan tugas Komite dapat berjalan secara lebih efektif dan dapat dipertanggung jawabkan secara profesional, maka dalam pelaksanaan tugasnya Komite berpedoman Pedoman Pelaksanaan Kerja (Charter) Komite. pada\n",
      "Peraturan Otoritas Jasa Keuangan (OJK) Nomor: 34/POJK/04/2014 tentang Komite Nominasi dan Remunerasi Emiten atau Perusahaan Publik; Surat Menteri BUMN nomor: S- 675/MBU/10/2018 tanggal 17 Oktober 2018 perihal Persetujuan Usulan Batasan danlatau Kriteria Kewenangan Dewan Komisaris PT Telekomunikasi Indonesia (Persero) Tbk; Surat Edaran (SE) Menteri BUMN nomor: SE-9IMBU/09/2021 tanggal 10 September 2021 Evaluasi Kinerja Anggota Dewan Komisaris/Dewan Pengawas BUMN; IR . Dewan Komisaris PT Telekomunikasi Indonesia (Persero bk Telkom Landmark Tower 2,Lantal 40 T :+62 21 8086 3705 JI Jend Gatot Subroto Kav 52 E sekdekomatelkom co,id Jakarta 12710. Indonesia wwwtelkom coid perihal\n"
     ]
    }
   ],
   "source": [
    "import torch\n",
    "import os\n",
    "from sentence_transformers import SentenceTransformer\n",
    "import qdrant_client\n",
    "from qdrant_client.http.models import PointStruct, VectorParams, Distance\n",
    "\n",
    "# Langkah 1: Membaca semua file .txt dalam satu direktori\n",
    "directory_path = '/home/a_daffa_hilmi/documents/Dockerize/OCR/result_ocr'\n",
    "peraturan_text = \"\"\n",
    "\n",
    "for filename in os.listdir(directory_path):\n",
    "    if filename.endswith('.txt'):\n",
    "        file_path = os.path.join(directory_path, filename)\n",
    "        with open(file_path, 'r', encoding='utf-8') as file:\n",
    "            peraturan_text += file.read() + '\\n\\n'  # Menambahkan pemisah antar file\n",
    "\n",
    "# Langkah 2: Inisialisasi Qdrant dan model Sentence Transformers\n",
    "client = qdrant_client.QdrantClient(\"http://10.12.9.105:6333\")\n",
    "\n",
    "# model = SentenceTransformer('paraphrase-multilingual-MiniLM-L12-v2')\n",
    "model = SentenceTransformer('paraphrase-multilingual-mpnet-base-v2', device='cuda' if torch.cuda.is_available() else 'cpu')\n",
    "\n",
    "# Fungsi untuk mendapatkan embedding dari teks\n",
    "def get_embeddings(text):\n",
    "    return model.encode(text)\n",
    "\n",
    "# Membagi teks menjadi paragraf dan mendapatkan embeddingnya\n",
    "paragraphs = peraturan_text.split('\\n\\n')\n",
    "embeddings = [get_embeddings(p) for p in paragraphs]\n",
    "\n",
    "# Langkah 3: Menyimpan paragraf dan embeddingnya ke Qdrant\n",
    "client.recreate_collection(\n",
    "    collection_name=\"peraturan_perusahaan\",\n",
    "    vectors_config=VectorParams(size=len(embeddings[0]), distance=Distance.COSINE)\n",
    ")\n",
    "\n",
    "points = [\n",
    "    PointStruct(id=i, vector=embeddings[i], payload={\"text\": paragraphs[i]})\n",
    "    for i in range(len(paragraphs))\n",
    "]\n",
    "\n",
    "client.upsert(\n",
    "    collection_name=\"peraturan_perusahaan\",\n",
    "    wait=True,\n",
    "    points=points\n",
    ")\n",
    "\n",
    "# Fungsi untuk mencari paragraf yang relevan berdasarkan pertanyaan\n",
    "def search_peraturan(query):\n",
    "    query_vector = get_embeddings(query)\n",
    "    results = client.search(\n",
    "        collection_name=\"peraturan_perusahaan\",\n",
    "        query_vector=query_vector,\n",
    "        limit=3\n",
    "    )\n",
    "    # Mengurutkan hasil berdasarkan skor relevansi\n",
    "    # sorted_results = sorted(results, key=lambda x: x.score, reverse=True)\n",
    "    return [res.payload[\"text\"] for res in results]\n",
    "\n",
    "# Contoh penggunaan\n",
    "query = \"seperti apa sistem pembayaran publikasi online?\"\n",
    "results = search_peraturan(query)\n",
    "for result in results:\n",
    "    print(result)"
   ]
  },
  {
   "cell_type": "code",
   "execution_count": 2,
   "id": "932a2c80",
   "metadata": {},
   "outputs": [
    {
     "name": "stdout",
     "output_type": "stream",
     "text": [
      "\n"
     ]
    }
   ],
   "source": [
    "# Contoh penggunaan\n",
    "query = \"apa itu pakta integritas?\"\n",
    "results = search_peraturan(query)\n",
    "for result in results:\n",
    "    print(result)"
   ]
  },
  {
   "cell_type": "code",
   "execution_count": null,
   "id": "0596454e",
   "metadata": {},
   "outputs": [],
   "source": []
  }
 ],
 "metadata": {
  "kernelspec": {
   "display_name": "base",
   "language": "python",
   "name": "base"
  },
  "language_info": {
   "codemirror_mode": {
    "name": "ipython",
    "version": 3
   },
   "file_extension": ".py",
   "mimetype": "text/x-python",
   "name": "python",
   "nbconvert_exporter": "python",
   "pygments_lexer": "ipython3",
   "version": "3.9.12"
  }
 },
 "nbformat": 4,
 "nbformat_minor": 5
}
